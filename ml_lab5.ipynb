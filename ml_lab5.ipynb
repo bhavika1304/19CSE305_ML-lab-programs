{
 "cells": [
  {
   "cell_type": "markdown",
   "id": "efe3ce4f-d815-41cc-a9a0-dc92050c168d",
   "metadata": {},
   "source": [
    "##### LAB 5"
   ]
  },
  {
   "cell_type": "code",
   "execution_count": 2,
   "id": "2f4e49a7-1a0e-40c2-9081-3a1cc64ddef8",
   "metadata": {},
   "outputs": [],
   "source": [
    "#QUESTION A1\n",
    "\n",
    "import pandas as pd\n",
    "from sklearn.model_selection import train_test_split\n",
    "from sklearn.linear_model import LinearRegression\n",
    "from sklearn.metrics import mean_squared_error, r2_score\n",
    "from sklearn.impute import SimpleImputer"
   ]
  },
  {
   "cell_type": "code",
   "execution_count": 3,
   "id": "0f2660ed-d753-4b82-ac9c-c4f0042fd6c5",
   "metadata": {},
   "outputs": [],
   "source": [
    "feature = 'absolute_magnitude' \n",
    "target = 'is_hazardous'\n",
    "\n",
    "file_path = 'D:\\\\BHAVIKA\\\\sem 5\\\\FDS\\\\dataset\\\\nearest-earth-objects(1910-2024).csv'\n",
    "data = pd.read_csv(file_path)\n",
    "\n",
    "X = data[[feature]].values\n",
    "y = data[target].values\n",
    "\n",
    "imputer = SimpleImputer(strategy='mean')  \n",
    "X = imputer.fit_transform(X)\n",
    "\n",
    "X_train, X_test, y_train, y_test = train_test_split(X, y, test_size=0.3, random_state=42)\n",
    "\n",
    "reg = LinearRegression().fit(X_train, y_train)\n",
    "\n",
    "y_train_pred = reg.predict(X_train)"
   ]
  },
  {
   "cell_type": "code",
   "execution_count": 4,
   "id": "a8f1cb44-539a-48f0-ba13-50e9ad5bc2ed",
   "metadata": {
    "scrolled": true
   },
   "outputs": [
    {
     "name": "stdout",
     "output_type": "stream",
     "text": [
      "Training MSE: 0.0981\n",
      "Training RMSE: 0.3132\n",
      "Training MAPE: 76.95%\n",
      "Training R²: 0.1181\n",
      "Test MSE: 0.0984\n",
      "Test RMSE: 0.3137\n",
      "Test MAPE: 76.94%\n",
      "Test R²: 0.1189\n"
     ]
    }
   ],
   "source": [
    "#QUESTION A2\n",
    "\n",
    "from sklearn.metrics import mean_squared_error, r2_score\n",
    "import numpy as np\n",
    "\n",
    "def calculate_mape(y_true, y_pred):\n",
    "    nonzero_indices = y_true != 0\n",
    "    return np.mean(np.abs((y_true[nonzero_indices] - y_pred[nonzero_indices]) / y_true[nonzero_indices])) * 100\n",
    "    \n",
    "y_train_pred = reg.predict(X_train)\n",
    "mse_train = mean_squared_error(y_train, y_train_pred)\n",
    "rmse_train = np.sqrt(mse_train)\n",
    "mape_train = calculate_mape(y_train, y_train_pred)\n",
    "r2_train = r2_score(y_train, y_train_pred)\n",
    "\n",
    "y_test_pred = reg.predict(X_test)\n",
    "mse_test = mean_squared_error(y_test, y_test_pred)\n",
    "rmse_test = np.sqrt(mse_test)\n",
    "mape_test = calculate_mape(y_test, y_test_pred)\n",
    "r2_test = r2_score(y_test, y_test_pred)\n",
    "\n",
    "print(f\"Training MSE: {mse_train:.4f}\")\n",
    "print(f\"Training RMSE: {rmse_train:.4f}\")\n",
    "print(f\"Training MAPE: {mape_train:.2f}%\")\n",
    "print(f\"Training R²: {r2_train:.4f}\")\n",
    "\n",
    "print(f\"Test MSE: {mse_test:.4f}\")\n",
    "print(f\"Test RMSE: {rmse_test:.4f}\")\n",
    "print(f\"Test MAPE: {mape_test:.2f}%\")\n",
    "print(f\"Test R²: {r2_test:.4f}\")"
   ]
  },
  {
   "cell_type": "code",
   "execution_count": 5,
   "id": "82800ab6-f6d6-421b-ab6b-e40b06fb6357",
   "metadata": {},
   "outputs": [],
   "source": [
    "#QUESTION A3\n",
    "\n",
    "import numpy as np\n",
    "from sklearn.model_selection import train_test_split\n",
    "from sklearn.linear_model import LinearRegression\n",
    "from sklearn.metrics import mean_squared_error, r2_score\n",
    "from sklearn.impute import SimpleImputer\n",
    "\n",
    "imputer = SimpleImputer(strategy='mean')\n",
    "X_train = imputer.fit_transform(X_train)\n",
    "X_test = imputer.transform(X_test)\n",
    "\n",
    "reg = LinearRegression().fit(X_train, y_train)\n",
    "y_train_pred = reg.predict(X_train)\n",
    "y_test_pred = reg.predict(X_test)"
   ]
  },
  {
   "cell_type": "code",
   "execution_count": 6,
   "id": "7b08d432-fe0d-423a-9618-d252e564122c",
   "metadata": {},
   "outputs": [
    {
     "name": "stdout",
     "output_type": "stream",
     "text": [
      "Training MSE: 0.09806726752247899\n",
      "Training RMSE: 0.3131569375288994\n",
      "Training R²: 0.11809209606654747\n",
      "Test MSE: 0.09837966588555501\n",
      "Test RMSE: 0.3136553297579287\n",
      "Test R²: 0.11888450618042534\n"
     ]
    }
   ],
   "source": [
    "mse_train = mean_squared_error(y_train, y_train_pred)\n",
    "rmse_train = np.sqrt(mse_train)\n",
    "r2_train = r2_score(y_train, y_train_pred)\n",
    "\n",
    "mse_test = mean_squared_error(y_test, y_test_pred)\n",
    "rmse_test = np.sqrt(mse_test)\n",
    "r2_test = r2_score(y_test, y_test_pred)\n",
    "\n",
    "print(f\"Training MSE: {mse_train}\")\n",
    "print(f\"Training RMSE: {rmse_train}\")\n",
    "print(f\"Training R²: {r2_train}\")\n",
    "\n",
    "print(f\"Test MSE: {mse_test}\")\n",
    "print(f\"Test RMSE: {rmse_test}\")\n",
    "print(f\"Test R²: {r2_test}\")"
   ]
  },
  {
   "cell_type": "code",
   "execution_count": 7,
   "id": "e8858da1-b6f8-47f7-9e68-bbd199c181b4",
   "metadata": {},
   "outputs": [
    {
     "name": "stdout",
     "output_type": "stream",
     "text": [
      "<bound method NDFrame.head of           neo_id                name  absolute_magnitude  \\\n",
      "0        2162117  162117 (1998 SD15)              19.140   \n",
      "1        2349507    349507 (2008 QY)              18.500   \n",
      "2        2455415    455415 (2003 GA)              21.450   \n",
      "3        3132126           (2002 PB)              20.630   \n",
      "4        3557844           (2011 DW)              22.700   \n",
      "...          ...                 ...                 ...   \n",
      "338194  54403809          (2023 VS4)              28.580   \n",
      "338195  54415298          (2023 XW5)              28.690   \n",
      "338196  54454871          (2024 KJ7)              21.919   \n",
      "338197  54456245           (2024 NE)              23.887   \n",
      "338198  54460573          (2024 NH3)              22.951   \n",
      "\n",
      "        estimated_diameter_min  estimated_diameter_max orbiting_body  \\\n",
      "0                     0.394962                0.883161         Earth   \n",
      "1                     0.530341                1.185878         Earth   \n",
      "2                     0.136319                0.304818         Earth   \n",
      "3                     0.198863                0.444672         Earth   \n",
      "4                     0.076658                0.171412         Earth   \n",
      "...                        ...                     ...           ...   \n",
      "338194                0.005112                0.011430         Earth   \n",
      "338195                0.004859                0.010865         Earth   \n",
      "338196                0.109839                0.245607         Earth   \n",
      "338197                0.044377                0.099229         Earth   \n",
      "338198                0.068290                0.152700         Earth   \n",
      "\n",
      "        relative_velocity  miss_distance  is_hazardous  \n",
      "0            71745.401048   5.814362e+07         False  \n",
      "1           109949.757148   5.580105e+07          True  \n",
      "2            24865.506798   6.720689e+07         False  \n",
      "3            78890.076805   3.039644e+07         False  \n",
      "4            56036.519484   6.311863e+07         False  \n",
      "...                   ...            ...           ...  \n",
      "338194       56646.985988   6.406548e+07         False  \n",
      "338195       21130.768947   2.948883e+07         False  \n",
      "338196       11832.041031   5.346078e+07         False  \n",
      "338197       56198.382733   5.184742e+06         False  \n",
      "338198       42060.357830   7.126682e+06         False  \n",
      "\n",
      "[338199 rows x 9 columns]>\n"
     ]
    }
   ],
   "source": [
    "print(data.head)"
   ]
  },
  {
   "cell_type": "code",
   "execution_count": 8,
   "id": "94bc7692-0270-457d-a0ef-199a2aa05cd6",
   "metadata": {},
   "outputs": [],
   "source": [
    "#QUESTION A4\n",
    "\n",
    "import numpy as np\n",
    "from sklearn.cluster import KMeans\n",
    "from sklearn.impute import SimpleImputer\n",
    "from sklearn.model_selection import train_test_split\n",
    "import pandas as pd"
   ]
  },
  {
   "cell_type": "code",
   "execution_count": 9,
   "id": "44d5c2d9-a5e6-4eb7-84ef-80f91bda6336",
   "metadata": {},
   "outputs": [
    {
     "name": "stdout",
     "output_type": "stream",
     "text": [
      "Cluster labels:\n",
      " [0 0 1 ... 0 0 1]\n",
      "\n",
      "Cluster centers:\n",
      " [[2.34640025e+01 1.26466538e-01 2.82787776e-01 4.29057943e+04\n",
      "  2.16348610e+07 1.00000000e+00]\n",
      " [2.25080402e+01 1.82810087e-01 4.08775781e-01 5.75522824e+04\n",
      "  5.75150038e+07 1.00000000e+00]]\n"
     ]
    }
   ],
   "source": [
    "X = data.drop(columns=['neo_id', 'name', 'is_hazardous'])\n",
    "\n",
    "numeric_columns = X.select_dtypes(include=[np.number]).columns\n",
    "categorical_columns = X.select_dtypes(include=[object]).columns\n",
    "\n",
    "numeric_data = X[numeric_columns]\n",
    "imputer_numeric = SimpleImputer(strategy='mean')\n",
    "numeric_data_imputed = imputer_numeric.fit_transform(numeric_data)\n",
    "\n",
    "categorical_data = X[categorical_columns]\n",
    "imputer_categorical = SimpleImputer(strategy='most_frequent')\n",
    "categorical_data_imputed = imputer_categorical.fit_transform(categorical_data)\n",
    "\n",
    "#categorical to df\n",
    "categorical_data_imputed_df = pd.DataFrame(categorical_data_imputed, columns=categorical_columns)\n",
    "categorical_data_encoded = pd.get_dummies(categorical_data_imputed_df)\n",
    "\n",
    "#numeric & categorical combine\n",
    "X_combined = pd.concat([pd.DataFrame(numeric_data_imputed, columns=numeric_columns), categorical_data_encoded], axis=1)\n",
    "\n",
    "X_train, X_test = train_test_split(X_combined, test_size=0.3, random_state=42)\n",
    "\n",
    "kmeans = KMeans(n_clusters=2, random_state=0, n_init='auto')\n",
    "kmeans.fit(X_train)\n",
    "\n",
    "cluster_labels = kmeans.labels_\n",
    "cluster_centers = kmeans.cluster_centers_\n",
    "\n",
    "print(\"Cluster labels:\\n\", cluster_labels)\n",
    "print(\"\\nCluster centers:\\n\", cluster_centers)"
   ]
  },
  {
   "cell_type": "code",
   "execution_count": 10,
   "id": "6ba49756-7cad-4616-8beb-413a64fbd3c1",
   "metadata": {},
   "outputs": [
    {
     "name": "stdout",
     "output_type": "stream",
     "text": [
      "silhouette score: 0.6170\n",
      "calinski-harabasz score: 658810.3924\n",
      "davies-bouldin index: 0.5178\n"
     ]
    }
   ],
   "source": [
    "# QUESTION A5\n",
    "\n",
    "from sklearn.metrics import silhouette_score, calinski_harabasz_score, davies_bouldin_score\n",
    "\n",
    "silhouette_avg = silhouette_score(X_train, kmeans.labels_)\n",
    "calinski_harabasz_avg = calinski_harabasz_score(X_train, kmeans.labels_)\n",
    "davies_bouldin_avg = davies_bouldin_score(X_train, kmeans.labels_)\n",
    "\n",
    "print(f\"silhouette score: {silhouette_avg:.4f}\")\n",
    "print(f\"calinski-harabasz score: {calinski_harabasz_avg:.4f}\")\n",
    "print(f\"davies-bouldin index: {davies_bouldin_avg:.4f}\")"
   ]
  },
  {
   "cell_type": "code",
   "execution_count": null,
   "id": "db50495e-21c9-4d8d-beae-51c36b8b28dc",
   "metadata": {},
   "outputs": [],
   "source": [
    "#QUESTION A6\n",
    "\n",
    "import matplotlib.pyplot as plt\n",
    "\n",
    "k_range = range(2, 6)  #k from 2 to 5\n",
    "silhouette_scores = []\n",
    "calinski_harabasz_scores = []\n",
    "davies_bouldin_scores = []\n",
    "\n",
    "for k in k_range:\n",
    "    kmeans = KMeans(n_clusters=k, random_state=42, n_init=\"auto\").fit(X_train)\n",
    "    labels = kmeans.labels_\n",
    "    \n",
    "    silhouette_avg = silhouette_score(X_train, labels)\n",
    "    calinski_harabasz_avg = calinski_harabasz_score(X_train, labels)\n",
    "    davies_bouldin_avg = davies_bouldin_score(X_train, labels)\n",
    "    \n",
    "    silhouette_scores.append(silhouette_avg)\n",
    "    calinski_harabasz_scores.append(calinski_harabasz_avg)\n",
    "    davies_bouldin_scores.append(davies_bouldin_avg)\n",
    "\n",
    "plt.figure(figsize=(18, 5))\n",
    "\n",
    "plt.subplot(1, 3, 1)\n",
    "plt.plot(k_range, silhouette_scores, marker='o')\n",
    "plt.title('Silhouette Score vs k')\n",
    "plt.xlabel('Number of clusters (k)')\n",
    "plt.ylabel('Silhouette Score')\n",
    "\n",
    "plt.subplot(1, 3, 2)\n",
    "plt.plot(k_range, calinski_harabasz_scores, marker='o')\n",
    "plt.title('Calinski-Harabasz Score vs k')\n",
    "plt.xlabel('Number of clusters (k)')\n",
    "plt.ylabel('Calinski-Harabasz Score')\n",
    "\n",
    "plt.subplot(1, 3, 3)\n",
    "plt.plot(k_range, davies_bouldin_scores, marker='o')\n",
    "plt.title('Davies-Bouldin Index vs k')\n",
    "plt.xlabel('Number of clusters (k)')\n",
    "plt.ylabel('Davies-Bouldin Index')\n",
    "\n",
    "plt.tight_layout()\n",
    "plt.show()"
   ]
  },
  {
   "cell_type": "code",
   "execution_count": null,
   "id": "3789bdd7-0f7e-4b53-9641-2241cabf41fa",
   "metadata": {},
   "outputs": [],
   "source": [
    "#QUESTION A7\n",
    "\n",
    "import matplotlib.pyplot as plt\n",
    "from sklearn.cluster import KMeans\n",
    "\n",
    "# Initialize an empty list to store the distortions\n",
    "distortions = []\n",
    "\n",
    "# Loop over different values of k to calculate the distortions (inertia)\n",
    "for k in range(2, 20):\n",
    "    kmeans = KMeans(n_clusters=k, random_state=42, n_init=\"auto\")\n",
    "    kmeans.fit(X_train)\n",
    "    distortions.append(kmeans.inertia_)\n",
    "\n",
    "# Plot the elbow plot\n",
    "plt.figure(figsize=(10, 6))\n",
    "plt.plot(range(2, 20), distortions, marker='o')\n",
    "plt.xlabel('Number of Clusters (k)')\n",
    "plt.ylabel('Distortion (Inertia)')\n",
    "plt.title('Elbow Plot for Optimal k')\n",
    "plt.grid(True)\n",
    "plt.show()\n"
   ]
  },
  {
   "cell_type": "code",
   "execution_count": null,
   "id": "320d74d8-d730-4bdf-a88a-417676a386fd",
   "metadata": {},
   "outputs": [],
   "source": []
  }
 ],
 "metadata": {
  "kernelspec": {
   "display_name": "Python 3 (ipykernel)",
   "language": "python",
   "name": "python3"
  },
  "language_info": {
   "codemirror_mode": {
    "name": "ipython",
    "version": 3
   },
   "file_extension": ".py",
   "mimetype": "text/x-python",
   "name": "python",
   "nbconvert_exporter": "python",
   "pygments_lexer": "ipython3",
   "version": "3.11.5"
  }
 },
 "nbformat": 4,
 "nbformat_minor": 5
}
