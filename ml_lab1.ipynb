{
 "cells": [
  {
   "cell_type": "code",
   "execution_count": 6,
   "id": "c49c7a82-4220-419d-9b4c-9153791c1bee",
   "metadata": {},
   "outputs": [
    {
     "name": "stdout",
     "output_type": "stream",
     "text": [
      "2 pairs add up to 10\n"
     ]
    }
   ],
   "source": [
    "#question - 1: Consider the given list as [2, 7, 4, 1, 3, 6]. Write a program to count pairs of elements with \n",
    "#sum equal to 10\n",
    "\n",
    "def pairs(li,s):\n",
    "    n=len(li)\n",
    "    count=0\n",
    "    for i in range(n):\n",
    "        for j in range(i+1,n):\n",
    "            if li[i] + li[j] == s:\n",
    "                count+=1\n",
    "    return count\n",
    "        \n",
    "list = [2,7,4,1,3,6]\n",
    "sum=10\n",
    "\n",
    "print(pairs(list,sum), \"pairs add up to 10\")"
   ]
  },
  {
   "cell_type": "code",
   "execution_count": 4,
   "id": "8c1cdd6a-dae3-423f-b59b-933340d08e5c",
   "metadata": {},
   "outputs": [
    {
     "name": "stdout",
     "output_type": "stream",
     "text": [
      "5 is the range of the list\n"
     ]
    }
   ],
   "source": [
    "#question - 2: Write a program that takes a list of real numbers as input and returns the range (difference \n",
    "#between minimum and maximum) of the list. Check for list being less than 3 elements in \n",
    "#which case return an error message (Ex: “Range determination not possible”). Given a list\n",
    "#[5,3,8,1,0,4], the range is 8 (8-0).\n",
    "\n",
    "def calculate_range(li):\n",
    "    n = len(li)\n",
    "    if n <= 3:\n",
    "        return 0\n",
    "    maximum,minimum=li[0],li[0]\n",
    "    for i in range(n):\n",
    "        if li[i]>maximum:\n",
    "            maximum = li[i]\n",
    "        if li[i]<minimum:\n",
    "            minimum = li[i]\n",
    "    return maximum-minimum\n",
    "\n",
    "li = [5,3,1,0,4]\n",
    "print(calculate_range(li), \"is the range of the list\")"
   ]
  },
  {
   "cell_type": "code",
   "execution_count": 10,
   "id": "99671029-4fab-4f50-a9af-4dab274f46e4",
   "metadata": {},
   "outputs": [
    {
     "name": "stdout",
     "output_type": "stream",
     "text": [
      "[37, 54]\n",
      "[81, 118]\n"
     ]
    }
   ],
   "source": [
    "#question - 3: Write a program that accepts a square matrix A and a positive integer m as arguments and \n",
    "#returns Am.\n",
    "\n",
    "def matrix_power(matrix, m):\n",
    "    n = len(matrix)\n",
    "    result = [[0 for _ in range(n)] for _ in range(n)]\n",
    "    for i in range(n):\n",
    "        result[i][i] = 1\n",
    "    for _ in range(m):\n",
    "        temp = [[0 for _ in range(n)] for _ in range(n)]\n",
    "        for i in range(n):\n",
    "            for j in range(n):\n",
    "                for k in range(n):\n",
    "                    temp[i][j] += result[i][k] * matrix[k][j]\n",
    "        result = temp\n",
    "    return result\n",
    "\n",
    "matrix = [[1, 2],[3, 4]]\n",
    "m = 3\n",
    "\n",
    "result = matrix_power(matrix, m)\n",
    "for row in result:\n",
    "    print(row)\n"
   ]
  },
  {
   "cell_type": "code",
   "execution_count": 20,
   "id": "25a69104-ac03-4d19-b2fe-df9c3b57d93a",
   "metadata": {},
   "outputs": [
    {
     "name": "stdout",
     "output_type": "stream",
     "text": [
      "The highest occurring character is 'p' with occurrence count 3.\n"
     ]
    }
   ],
   "source": [
    "#question - 4: Write a program to count the highest occurring character & its occurrence count in an input\n",
    "#string. Consider only alphabets. \n",
    "\n",
    "def highest_occ(s):\n",
    "    s = s.lower()\n",
    "    alphabet = \"abcdefghijklmnopqrstuvwxyz\"\n",
    "    counts = [0] * 26  \n",
    "    for char in s:\n",
    "        if char in alphabet:\n",
    "            index = alphabet.index(char)\n",
    "            counts[index] += 1\n",
    "    max_count = 0\n",
    "    max_char = ''\n",
    "    for i in range(26):\n",
    "        if counts[i] > max_count:\n",
    "            max_count = counts[i]\n",
    "            max_char = alphabet[i]\n",
    "    \n",
    "    return max_char, max_count\n",
    "\n",
    "input_string = \"hippopotamus\"\n",
    "char, count = highest_occ(input_string)\n",
    "print(f\"The highest occurring character is '{char}' with occurrence count {count}.\")\n"
   ]
  },
  {
   "cell_type": "code",
   "execution_count": null,
   "id": "24295f61-8dcc-45ef-b830-7233acaeadf0",
   "metadata": {},
   "outputs": [],
   "source": []
  }
 ],
 "metadata": {
  "kernelspec": {
   "display_name": "Python 3 (ipykernel)",
   "language": "python",
   "name": "python3"
  },
  "language_info": {
   "codemirror_mode": {
    "name": "ipython",
    "version": 3
   },
   "file_extension": ".py",
   "mimetype": "text/x-python",
   "name": "python",
   "nbconvert_exporter": "python",
   "pygments_lexer": "ipython3",
   "version": "3.11.5"
  }
 },
 "nbformat": 4,
 "nbformat_minor": 5
}
